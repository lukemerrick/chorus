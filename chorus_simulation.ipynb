{
 "cells": [
  {
   "cell_type": "markdown",
   "metadata": {},
   "source": [
    "# Step 0: imports"
   ]
  },
  {
   "cell_type": "code",
   "execution_count": 217,
   "metadata": {
    "collapsed": false
   },
   "outputs": [],
   "source": [
    "import pandas as pd\n",
    "import numpy as np\n",
    "import seaborn as sns\n",
    "import matplotlib.pyplot as plt\n",
    "import scipy.integrate as integrate\n",
    "import math, random\n",
    "\n",
    "import encode, source, output, additions\n",
    "from note import Note\n",
    "\n",
    "%matplotlib inline"
   ]
  },
  {
   "cell_type": "code",
   "execution_count": 218,
   "metadata": {
    "collapsed": false
   },
   "outputs": [],
   "source": [
    "song = pd.read_csv('music_notes/loch_lomond.csv')\n",
    "song.columns = [c.strip() for c in song.columns.values]\n",
    "songnotes = song.loc[:50,['pitch (as sharps)', 'octave']]\n",
    "llnotes = []\n",
    "for i in range(songnotes.shape[0]):\n",
    "    note = songnotes.iloc[i]['pitch (as sharps)']\n",
    "    octave = int(songnotes.iloc[i]['octave'])\n",
    "    llnotes.append(Note(note).at_octave(octave))\n",
    "ll_freq = [n.frequency() for n in llnotes]\n",
    "# fix initial note repeats\n",
    "ll_freq = ll_freq[3:]\n",
    "\n",
    "def get_target(index):\n",
    "    ''' Takes the index of the current target note\n",
    "        and returns the target frequency of that note\n",
    "    '''\n",
    "    return ll_freq[index]"
   ]
  },
  {
   "cell_type": "markdown",
   "metadata": {},
   "source": [
    "# Step 1: define a singer\n",
    "We bundle all of the control and tracking of each voice into an object for easier simulation."
   ]
  },
  {
   "cell_type": "code",
   "execution_count": 254,
   "metadata": {
    "collapsed": false
   },
   "outputs": [],
   "source": [
    "_integral_steps = 10\n",
    "class Singer:\n",
    "    def __init__(self, duration, adj_per_sec, max_vol = 1, pid_coeffs=None, starting_freq = 300):\n",
    "        self.max_vol = max_vol\n",
    "        self.duration = duration\n",
    "        self.adj_per_sec = adj_per_sec\n",
    "        if pid_coeffs:\n",
    "            self.pid_coeffs = pid_coeffs\n",
    "        self.realized = np.zeros(duration)\n",
    "        self.realized[0] = starting_freq\n",
    "        self.volumes = np.zeros(duration)\n",
    "        self.error_integral = 0\n",
    "        self.last_error = np.nan\n",
    "        self.last_target = 0\n",
    "        self.t = 1\n",
    "        self.int_space = np.linspace(0, 1/adj_per_sec, _integral_steps)\n",
    "    \n",
    "    def get_last_note(self, t):\n",
    "        return self.realized[t-1]\n",
    "    \n",
    "    def get_error(self, target, noise_range=5):\n",
    "        ''' Calculates current error in order to\n",
    "            inform a control routine\n",
    "        '''\n",
    "        error = target - self.realized[t-1]\n",
    "        noise = random.uniform(-noise_range/2, noise_range/2)\n",
    "        error = error + noise\n",
    "        return error\n",
    "    \n",
    "    def get_volume(self, error):\n",
    "        adj = math.log(math.log(abs(error)+math.e)+math.e)\n",
    "        return self.max_vol\n",
    "    \n",
    "    def pid_control(self, error):\n",
    "        if not self.pid_coeffs:\n",
    "            raise Exception('no coeffs provided, but using PID')\n",
    "        kp, ki, kd = self.pid_coeffs\n",
    "        self.error_integral += (1/adj_per_sec)*error\n",
    "        d_error = (self.last_error - error)*self.adj_per_sec \\\n",
    "                    if not np.isnan(self.last_error) \\\n",
    "                    else 0\n",
    "        control = kp*error + ki * self.error_integral + kd * d_error\n",
    "        return control\n",
    "    \n",
    "    def voice_model(self, state_vector, t):\n",
    "        ''' Model of the effect that singer effort has\n",
    "            on setting vocal pitch. Singer input on range (-1,1),\n",
    "            so we simply scale this input to get a simple model of pitch.\n",
    "        '''\n",
    "        pitch, singer_input = state_vector\n",
    "        deriv_of_pitch = singer_input\n",
    "        deriv_of_control = 0\n",
    "        return [deriv_of_pitch, deriv_of_control]\n",
    "    \n",
    "    def simulate_voice(self, control):\n",
    "        diffeq_params = [self.realized[t-1], control]\n",
    "        integration_output = integrate.odeint(self.voice_model, \n",
    "                                              diffeq_params, \n",
    "                                              self.int_space)\n",
    "        realized_pitches, derivs_of_pitch = integration_output.T\n",
    "        realized = realized_pitches[-1]\n",
    "        return realized\n",
    "    \n",
    "    def adjustment(self, target):\n",
    "        # check if need to reset integral\n",
    "        if target != self.last_target:\n",
    "            self.error_integral = 0\n",
    "            self.last_error = np.nan\n",
    "        # derive control\n",
    "        error = self.get_error(target)\n",
    "        control = self.pid_control(error)\n",
    "        vol = self.get_volume(error)\n",
    "        \n",
    "        # simulate applying control\n",
    "        realized = self.simulate_voice(control)\n",
    "        \n",
    "        # bookkeeping\n",
    "        self.realized[self.t] = realized\n",
    "        self.volumes[self.t] = vol\n",
    "        self.last_error = error\n",
    "        self.last_target = target\n",
    "        self.t += 1\n",
    "    def render_singing(self):\n",
    "        pitch_duration = 1/self.adj_per_sec\n",
    "        sounds = []\n",
    "        starting_phase = random.random()\n",
    "        for t in range(self.duration):\n",
    "            phase = additions.get_phase(sounds[-1], new_volume=self.volumes[t]) if len(sounds) > 0 else starting_phase\n",
    "            sounds.append(self.volumes[t] * source.sine(self.realized[t], pitch_duration, phase=phase))\n",
    "        sound = np.concatenate([s[:-1] for s in sounds])\n",
    "        return sound\n",
    "        \n",
    "\n",
    "        \n",
    "        "
   ]
  },
  {
   "cell_type": "markdown",
   "metadata": {},
   "source": [
    "# Step 2: simulation\n",
    "In this step we see what happens when we unleash our control system on the task of keeping a singer on-pitch with the target"
   ]
  },
  {
   "cell_type": "code",
   "execution_count": 259,
   "metadata": {
    "collapsed": false
   },
   "outputs": [],
   "source": [
    "#################\n",
    "# Parameters\n",
    "#################\n",
    "# total number of eigth notes\n",
    "_notes = len(ll_freq)\n",
    "\n",
    "# number of control adjustments per second\n",
    "adj_per_sec = 8\n",
    "\n",
    "# duration of one eigth note\n",
    "note_duration = 0.5\n",
    "\n",
    "adj_per_note = adj_per_sec * note_duration # should be integer\n",
    "\n",
    "#################\n",
    "# setup\n",
    "#################\n",
    "# total number of control adjustments\n",
    "n = int(_notes * adj_per_note)\n",
    "\n",
    "singers = []\n",
    "for i in range(30):\n",
    "    singers.append(Singer(duration = n, \n",
    "                adj_per_sec = adj_per_sec,\n",
    "                pid_coeffs=(8,6,.05), max_vol=1/30,\n",
    "                starting_freq=random.randint(150,500)))\n",
    "#     singers.append(Singer(duration = n, \n",
    "#                 adj_per_sec = adj_per_sec,\n",
    "#                 pid_coeffs=(9,0,0), max_vol=.04))\n",
    "\n",
    "ideal = np.array(ll_freq)\n",
    "target = np.zeros(n)\n",
    "\n",
    "#################\n",
    "# run simulation from t=0 to t=n-1\n",
    "#################\n",
    "for t in range(1,n):\n",
    "    note_index = math.floor(t/adj_per_note)\n",
    "    current_target = ideal[note_index]\n",
    "    prev_notes = [s.get_last_note(t) for s in singers]\n",
    "    approx_target = sum(prev_notes)/len(prev_notes)\n",
    "#     print('target',current_target,'approx',approx_target)\n",
    "    # update leaders\n",
    "    for s in singers[:10]:\n",
    "        s.adjustment(current_target)\n",
    "    for s in singers[10:]:\n",
    "        s.adjustment((2*current_target + approx_target)/3)\n",
    "    \n",
    "    \n",
    "    # bookkeeping\n",
    "    target[t] = ideal[note_index]"
   ]
  },
  {
   "cell_type": "code",
   "execution_count": 260,
   "metadata": {
    "collapsed": false
   },
   "outputs": [
    {
     "data": {
      "image/png": "[encoded data removed]",
      "text/plain": [
       "<matplotlib.figure.Figure at 0x7f48896f9978>"
      ]
     },
     "metadata": {},
     "output_type": "display_data"
    }
   ],
   "source": [
    "#################\n",
    "# examine results\n",
    "#################    \n",
    "plt.plot(target[1:])\n",
    "for s in singers:\n",
    "    plt.plot(s.realized[1:])\n",
    "# plt.plot(singers[20].realized[1:])"
   ]
  },
  {
   "cell_type": "markdown",
   "metadata": {},
   "source": [
    "# Step 6: listen\n",
    "Rather than just looking at a simple graph of the simulation, we can actually listen to the simulated pitch."
   ]
  },
  {
   "cell_type": "code",
   "execution_count": 261,
   "metadata": {
    "collapsed": false
   },
   "outputs": [],
   "source": [
    "rendered = [s.render_singing() for s in singers]\n",
    "together = sum(rendered)"
   ]
  },
  {
   "cell_type": "code",
   "execution_count": 262,
   "metadata": {
    "collapsed": true
   },
   "outputs": [],
   "source": [
    "output.play(together)"
   ]
  }
 ],
 "metadata": {
  "anaconda-cloud": {},
  "kernelspec": {
   "display_name": "Python [conda env:tensorflow]",
   "language": "python",
   "name": "conda-env-tensorflow-py"
  },
  "language_info": {
   "codemirror_mode": {
    "name": "ipython",
    "version": 3
   },
   "file_extension": ".py",
   "mimetype": "text/x-python",
   "name": "python",
   "nbconvert_exporter": "python",
   "pygments_lexer": "ipython3",
   "version": "3.5.2"
  }
 },
 "nbformat": 4,
 "nbformat_minor": 1
}
