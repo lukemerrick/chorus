{
 "cells": [
  {
   "cell_type": "markdown",
   "metadata": {},
   "source": [
    "# Step 0: imports"
   ]
  },
  {
   "cell_type": "code",
   "execution_count": 1,
   "metadata": {
    "collapsed": false
   },
   "outputs": [],
   "source": [
    "import pandas as pd\n",
    "import numpy as np\n",
    "import seaborn as sns\n",
    "import matplotlib.pyplot as plt\n",
    "import scipy.integrate as integrate\n",
    "import math, random\n",
    "from copy import deepcopy\n",
    "\n",
    "import encode, source, output, additions\n",
    "\n",
    "from singer import Singer\n",
    "from note import Note\n",
    "\n",
    "%matplotlib inline"
   ]
  },
  {
   "cell_type": "code",
   "execution_count": 2,
   "metadata": {
    "collapsed": false
   },
   "outputs": [],
   "source": [
    "song = pd.read_csv('music_notes/loch_lomond.csv')\n",
    "song.columns = [c.strip() for c in song.columns.values]\n",
    "songnotes = song.loc[:50,['pitch (as sharps)', 'octave']]\n",
    "llnotes = []\n",
    "for i in range(songnotes.shape[0]):\n",
    "    note = songnotes.iloc[i]['pitch (as sharps)']\n",
    "    octave = int(songnotes.iloc[i]['octave'])\n",
    "    llnotes.append(Note(note).at_octave(octave))\n",
    "ll_freq = [n.frequency() for n in llnotes]\n",
    "# fix initial note repeats\n",
    "ll_freq = ll_freq[3:]\n",
    "_notes = len(ll_freq)\n",
    "\n",
    "def get_target(index):\n",
    "    ''' Takes the index of the current target note\n",
    "        and returns the target frequency of that note\n",
    "    '''\n",
    "    return ll_freq[index]"
   ]
  },
  {
   "cell_type": "markdown",
   "metadata": {},
   "source": [
    "# Step 1: define our singers\n",
    "We bundle all of the control and tracking of each voice into an object for easier simulation. We then set up a couple different parameters of singer to build our chorus."
   ]
  },
  {
   "cell_type": "code",
   "execution_count": 3,
   "metadata": {
    "collapsed": false
   },
   "outputs": [],
   "source": [
    "def create_good_singer(duration, adj_per_sec, max_vol):\n",
    "    return Singer(duration = duration, \n",
    "                adj_per_sec = adj_per_sec,\n",
    "                pid_coeffs=(12,6,.05), max_vol=max_vol,\n",
    "                starting_freq=random.randint(150,500), control_error_range=(0,0))\n",
    "def create_flat_singer(duration, adj_per_sec, max_vol):\n",
    "    return Singer(duration = duration, \n",
    "                adj_per_sec = adj_per_sec,\n",
    "                pid_coeffs=(12,6,.05), max_vol=max_vol,\n",
    "                starting_freq=random.randint(150,500), control_error_range=(0,0), noise_range=(-2,0))\n",
    "def create_bad_singer(duration, adj_per_sec, max_vol):\n",
    "    return Singer(duration = duration, \n",
    "                adj_per_sec = adj_per_sec,\n",
    "                pid_coeffs=(7,6,.05), max_vol=max_vol,\n",
    "                starting_freq=random.randint(150,500), control_error_range=(0,0))\n",
    "\n",
    "def create_chorus(duration, num_singers = 50, adj_per_sec = 15, singer_func = create_flat_singer):\n",
    "    return [singer_func(duration, adj_per_sec, 1/num_singers) for i in range(num_singers)]\n",
    "\n",
    "def get_average_singer(singerlist):\n",
    "    ttl_vols = sum(np.array([s.volumes for s in singerlist]))\n",
    "    # hacky fix to avoid dividing by zero\n",
    "    average = sum(np.array([s.volumes * s.realized for s in singerlist])) / (ttl_vols+0.000001)\n",
    "    dummy_singer = deepcopy(singerlist[0])\n",
    "    dummy_singer.volumes = ttl_vols\n",
    "    dummy_singer.realized = average\n",
    "    return dummy_singer\n",
    "        \n",
    "        "
   ]
  },
  {
   "cell_type": "markdown",
   "metadata": {},
   "source": [
    "# Step 2: simulation\n",
    "In this step we see what happens when we unleash our control system on the task of keeping a singer on-pitch with the target"
   ]
  },
  {
   "cell_type": "code",
   "execution_count": 4,
   "metadata": {
    "collapsed": false,
    "scrolled": false
   },
   "outputs": [],
   "source": [
    "# #################\n",
    "# # Parameters\n",
    "# #################\n",
    "# # total number of eigth notes\n",
    "\n",
    "\n",
    "# # number of control adjustments per second\n",
    "# adj_per_sec = 15\n",
    "\n",
    "# # duration of one eigth note\n",
    "# note_duration = 0.5\n",
    "\n",
    "# num_singers = 10\n",
    "# proportion_good_ear = .1\n",
    "\n",
    "# #################\n",
    "# # setup\n",
    "# #################\n",
    "# # total number of control adjustments\n",
    "# adj_per_note = adj_per_sec * note_duration # should be integer\n",
    "# n = int(_notes * adj_per_note)\n",
    "\n",
    "# # set up singers\n",
    "# singers = []\n",
    "# for i in range(num_singers):\n",
    "#     singers.append(create_flat_singer(n,adj_per_sec, 1/num_singers))\n",
    "\n",
    "# ideal = np.array(ll_freq)\n",
    "# target = np.zeros(n)\n",
    "# flatnesses = np.zeros(n)\n",
    "# flatnesses[0] = 0\n",
    "\n",
    "\n",
    "# #################\n",
    "# # run simulation from t=0 to t=n-1\n",
    "# #################\n",
    "# prev_ideal = ideal[0]\n",
    "# time_since_change = 0\n",
    "# chorus_flatness = flatnesses[0]\n",
    "# num_good_ear = math.floor(num_singers*proportion_good_ear)\n",
    "# for t in range(1,n):\n",
    "#     note_index = math.floor(t/adj_per_note)\n",
    "#     ideal_target = ideal[note_index]\n",
    "#     if ideal_target == prev_ideal:\n",
    "#         time_since_change += 1\n",
    "#     else:\n",
    "#         chorus_flatness = prev_ideal - matching_target\n",
    "# #         print(chorus_flatness)\n",
    "#         prev_ideal = ideal_target\n",
    "#         time_since_change = 0\n",
    "#     prev_notes = [s.get_last_note(t) for s in singers]\n",
    "#     matching_target = sum(prev_notes)/len(prev_notes)\n",
    "#     matching_weight = time_since_change / adj_per_note\n",
    "# #     print(matching_weight)\n",
    "# #     tg = (tg + matching_weight * matching_target)/(1+matching_weight)\n",
    "#     for s in singers[:num_good_ear]:\n",
    "#         s.adjustment((ideal_target + matching_weight * matching_target)/(1+matching_weight))\n",
    "#     for s in singers[num_good_ear:]:\n",
    "#         s.adjustment(((ideal_target - chorus_flatness) + matching_weight * matching_target)/(1+matching_weight))\n",
    "    \n",
    "    \n",
    "#     # bookkeeping\n",
    "#     target[t] = ideal[note_index]\n",
    "#     flatnesses[t] = chorus_flatness"
   ]
  },
  {
   "cell_type": "code",
   "execution_count": 5,
   "metadata": {
    "collapsed": false
   },
   "outputs": [],
   "source": [
    "def run_flatness_simulation(duration, chorus, proportion_good_ear, note_duration = 0.5, ):\n",
    "    ideal = np.array(ll_freq)\n",
    "    target = np.zeros(duration)\n",
    "    flatnesses = np.zeros(duration)\n",
    "    flatnesses[0] = 0\n",
    "\n",
    "    #################\n",
    "    # run simulation from t=0 to t=n-1\n",
    "    #################\n",
    "    prev_ideal = ideal[0]\n",
    "    time_since_change = 0\n",
    "    chorus_flatness = flatnesses[0]\n",
    "    num_good_ear = math.floor(len(chorus)*proportion_good_ear)\n",
    "    for t in range(1,duration):\n",
    "        note_index = math.floor(t/adj_per_note)\n",
    "        ideal_target = ideal[note_index]\n",
    "        if ideal_target == prev_ideal:\n",
    "            time_since_change += 1\n",
    "        else:\n",
    "            chorus_flatness = prev_ideal - matching_target\n",
    "            prev_ideal = ideal_target\n",
    "            time_since_change = 0\n",
    "        prev_notes = [s.get_last_note(t) for s in chorus]\n",
    "        matching_target = sum(prev_notes)/len(prev_notes)\n",
    "        matching_weight = time_since_change / adj_per_note\n",
    "        for s in chorus[:num_good_ear]:\n",
    "            s.adjustment((ideal_target + matching_weight * matching_target)/(1+matching_weight))\n",
    "        for s in chorus[num_good_ear:]:\n",
    "            s.adjustment(((ideal_target - chorus_flatness) + matching_weight * matching_target)/(1+matching_weight))\n",
    "\n",
    "        # bookkeeping\n",
    "        target[t] = ideal[note_index]\n",
    "        flatnesses[t] = chorus_flatness\n",
    "    return target, flatnesses, chorus\n",
    "def examine_results(idl, flt, ch):\n",
    "    #################\n",
    "    # examine results\n",
    "    #################   \n",
    "    chorus_singer = get_average_singer(ch)\n",
    "    plt.plot(idl[1:])\n",
    "    for s in ch:\n",
    "        plt.plot(s.realized[1:])\n",
    "    # plt.plot(chorus_singer.realized[1:])\n",
    "    plt.show()\n",
    "    plt.plot(flt[1:])\n",
    "    plt.show()\n",
    "def moving_average(a, n=3) :\n",
    "    ret = np.cumsum(a, dtype=float)\n",
    "    ret[n:] = ret[n:] - ret[:-n]\n",
    "    return ret[n - 1:] / n"
   ]
  },
  {
   "cell_type": "code",
   "execution_count": 11,
   "metadata": {
    "collapsed": false
   },
   "outputs": [
    {
     "data": {
      "image/png": "[encoded data removed]",
      "text/plain": [
       "<matplotlib.figure.Figure at 0x7fefdb33af98>"
      ]
     },
     "metadata": {},
     "output_type": "display_data"
    }
   ],
   "source": [
    "adj_per_sec = 15\n",
    "note_duration = 0.3\n",
    "adj_per_note = adj_per_sec * note_duration # should be integer\n",
    "duration = int(_notes * adj_per_note)\n",
    "simuls = []\n",
    "for prop in np.arange(0.1, 1.0, 0.2):\n",
    "#     print('good ear prop:', prop)\n",
    "    ch = create_chorus(duration)\n",
    "    idl, flt, ch = run_flatness_simulation(duration, ch, prop)\n",
    "#     examine_results(idl, flt, ch)\n",
    "    simuls.append(('Good_ear_prop={:.1f}'.format(prop), flt))\n",
    "fig = plt.figure()\n",
    "subplt = fig.add_subplot(111)\n",
    "for title, flt in simuls:\n",
    "    subplt.plot(moving_average(flt, n=20), label=title)\n",
    "subplt.legend(loc='best')\n",
    "subplt.set_ylabel('Flatness of chorus (in Hz)')\n",
    "subplt.set_xlabel('Time')\n",
    "subplt.set_title('Moving average of chorus flatness')\n",
    "plt.show()"
   ]
  },
  {
   "cell_type": "code",
   "execution_count": 7,
   "metadata": {
    "collapsed": true
   },
   "outputs": [],
   "source": [
    "_, _, good_chorus = run_flatness_simulation(duration, create_chorus(duration), .9)\n",
    "_, _, bad_chorus = run_flatness_simulation(duration, create_chorus(duration), .1)"
   ]
  },
  {
   "cell_type": "markdown",
   "metadata": {},
   "source": [
    "# Step 6: listen\n",
    "Rather than just looking at a simple graph of the simulation, we can actually listen to the simulated pitch."
   ]
  },
  {
   "cell_type": "code",
   "execution_count": 8,
   "metadata": {
    "collapsed": false
   },
   "outputs": [],
   "source": [
    "def render_sum(singerlist):\n",
    "    rendered = [s.render_singing() for s in singerlist]\n",
    "    return sum(rendered)\n",
    "def render_average(singerlist):\n",
    "    chorus_singer = get_average_singer(singerlist)\n",
    "    return chorus_singer.render_singing()"
   ]
  },
  {
   "cell_type": "code",
   "execution_count": 9,
   "metadata": {
    "collapsed": true
   },
   "outputs": [],
   "source": [
    "# output.play(render_sum(singers))"
   ]
  },
  {
   "cell_type": "code",
   "execution_count": 14,
   "metadata": {
    "collapsed": false
   },
   "outputs": [],
   "source": [
    "# output.play(render_average(good_chorus))\n",
    "# output.play(render_average(bad_chorus))\n",
    "# output.save_wave(render_average(good_chorus),'good_chorus.wav')\n",
    "# output.save_wave(render_average(bad_chorus),'bad_chorus.wav')"
   ]
  },
  {
   "cell_type": "code",
   "execution_count": null,
   "metadata": {
    "collapsed": true
   },
   "outputs": [],
   "source": []
  }
 ],
 "metadata": {
  "anaconda-cloud": {},
  "kernelspec": {
   "display_name": "Python [conda env:tensorflow]",
   "language": "python",
   "name": "conda-env-tensorflow-py"
  },
  "language_info": {
   "codemirror_mode": {
    "name": "ipython",
    "version": 3
   },
   "file_extension": ".py",
   "mimetype": "text/x-python",
   "name": "python",
   "nbconvert_exporter": "python",
   "pygments_lexer": "ipython3",
   "version": "3.5.2"
  }
 },
 "nbformat": 4,
 "nbformat_minor": 1
}
